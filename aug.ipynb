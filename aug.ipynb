{
 "cells": [
  {
   "cell_type": "code",
   "execution_count": null,
   "id": "b802e443",
   "metadata": {},
   "outputs": [],
   "source": [
    "import matplotlib.pyplot as plt\n",
    "from tensorflow.keras.preprocessing.image import ImageDataGenerator, img_to_array, load_img\n",
    "import numpy as np\n",
    "\n",
    "# Load the user-provided image\n",
    "image_path = '/content/cat.jpg'  # Replace with the actual image path\n",
    "original_img = load_img(image_path)\n",
    "image_array = img_to_array(original_img)\n",
    "image_array = np.expand_dims(image_array, axis=0)  # Expand dimensions to (1, height, width, channels)\n",
    "\n",
    "# Create an ImageDataGenerator with augmentations\n",
    "datagen = ImageDataGenerator(\n",
    "    rotation_range=20,\n",
    "    width_shift_range=0.2,\n",
    "    height_shift_range=0.2,\n",
    "    shear_range=0.2,\n",
    "    zoom_range=0.2,\n",
    "    horizontal_flip=True,\n",
    "    fill_mode='nearest'\n",
    ")\n",
    "\n",
    "# Generate a batch of augmented images\n",
    "augmented_images = datagen.flow(image_array, batch_size=10)\n",
    "\n",
    "# Plot the original and augmented images\n",
    "plt.figure(figsize=(10, 4))\n",
    "plt.subplot(2, 5, 1)\n",
    "plt.imshow(original_img)\n",
    "plt.title('Original Image')\n",
    "plt.axis('off')\n",
    "\n",
    "# Plot augmented images\n",
    "for i in range(9):\n",
    "    ax = plt.subplot(2, 5, i+2)\n",
    "    aug_img = next(augmented_images)[0].astype('uint8')\n",
    "    plt.imshow(aug_img)\n",
    "    ax.axis('off')\n",
    "\n",
    "plt.suptitle('Original and Augmented Images')\n",
    "plt.show()\n"
   ]
  }
 ],
 "metadata": {
  "kernelspec": {
   "display_name": "Python 3 (ipykernel)",
   "language": "python",
   "name": "python3"
  },
  "language_info": {
   "codemirror_mode": {
    "name": "ipython",
    "version": 3
   },
   "file_extension": ".py",
   "mimetype": "text/x-python",
   "name": "python",
   "nbconvert_exporter": "python",
   "pygments_lexer": "ipython3",
   "version": "3.10.5"
  }
 },
 "nbformat": 4,
 "nbformat_minor": 5
}
