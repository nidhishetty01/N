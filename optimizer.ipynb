{
  "nbformat": 4,
  "nbformat_minor": 0,
  "metadata": {
    "colab": {
      "provenance": []
    },
    "kernelspec": {
      "name": "python3",
      "display_name": "Python 3"
    },
    "language_info": {
      "name": "python"
    }
  },
  "cells": [
    {
      "cell_type": "markdown",
      "source": [
        "\n",
        "# OPTIMIZER\n",
        "\n",
        "\n"
      ],
      "metadata": {
        "id": "Mdm-Rl1MH56g"
      }
    },
    {
      "cell_type": "markdown",
      "source": [
        "## BASIC OPTIMIZER"
      ],
      "metadata": {
        "id": "5MXm-BaaI6iH"
      }
    },
    {
      "cell_type": "code",
      "source": [
        "import numpy as np\n",
        "import matplotlib.pyplot as plt\n"
      ],
      "metadata": {
        "id": "qzQbYobABKE1"
      },
      "execution_count": null,
      "outputs": []
    },
    {
      "cell_type": "code",
      "source": [
        "\n",
        "np.random.seed(42)\n",
        "X = 2 * np.random.rand(100, 1)\n",
        "y = 4 + 3 * X + np.random.randn(100, 1)\n",
        "\n",
        "\n",
        "X_b = np.c_[np.ones((100, 1)), X]\n"
      ],
      "metadata": {
        "id": "03oEd9s6BWM7"
      },
      "execution_count": null,
      "outputs": []
    },
    {
      "cell_type": "markdown",
      "source": [
        "## STOCHASTIC GD"
      ],
      "metadata": {
        "id": "Op-OR9AKF4_F"
      }
    },
    {
      "cell_type": "code",
      "source": [
        "def stochastic_gradient_descent(X, y, learning_rate=0.1, n_epochs = 1000):\n",
        "  m = len(y)\n",
        "  theta = np.random.randn(2, 1) # random initialization\n",
        "  print(\"Initial Theta:\", theta)\n",
        "  for epoch in range(n_epochs):\n",
        "    for i in range(m):\n",
        "      randomm_index = np.random.randint(m)\n",
        "      xi = X[randomm_index:randomm_index+1]\n",
        "      yi = y[randomm_index:randomm_index+1]\n",
        "      gradient = 2 * xi.T.dot(xi.dot(theta) - yi)\n",
        "      theta = theta - learning_rate * gradient\n",
        "  return theta\n",
        "\n",
        "theta_sgd = stochastic_gradient_descent(X_b, y)\n",
        "print(\"SGD Theta:\", theta_sgd)"
      ],
      "metadata": {
        "colab": {
          "base_uri": "https://localhost:8080/"
        },
        "id": "qtCwt7wrA9sC",
        "outputId": "4ae164e7-d623-42b9-a1ed-79c04236f24b"
      },
      "execution_count": null,
      "outputs": [
        {
          "output_type": "stream",
          "name": "stdout",
          "text": [
            "Initial Theta: [[0.01300189]\n",
            " [1.45353408]]\n",
            "SGD Theta: [[4.24038078]\n",
            " [3.34658244]]\n"
          ]
        }
      ]
    },
    {
      "cell_type": "markdown",
      "source": [
        "## BATCH GD"
      ],
      "metadata": {
        "id": "6WaeieSuF-0e"
      }
    },
    {
      "cell_type": "code",
      "source": [
        "def batch_gradient_descent(X, y, learning_rate=0.1, n_iterations = 1000):\n",
        "  m = len(y)\n",
        "  theta = np.random.randn(2, 1) # random initialization\n",
        "  print(\"Initial Theta:\", theta)\n",
        "  for iteration in range(n_iterations):\n",
        "    gradient = 2/m * X.T.dot(X.dot(theta) - y)\n",
        "    theta = theta - learning_rate * gradient\n",
        "  return theta\n",
        "\n",
        "\n",
        "theta_bgd = batch_gradient_descent(X_b, y)\n",
        "print(\"BGD Theta:\", theta_bgd)"
      ],
      "metadata": {
        "colab": {
          "base_uri": "https://localhost:8080/"
        },
        "id": "h75gTecJFw3V",
        "outputId": "05110eab-94ab-4744-e96d-153ef5e16c3c"
      },
      "execution_count": null,
      "outputs": [
        {
          "output_type": "stream",
          "name": "stdout",
          "text": [
            "Initial Theta: [[-1.17562577]\n",
            " [-0.84879539]]\n",
            "BGD Theta: [[4.21509616]\n",
            " [2.77011339]]\n"
          ]
        }
      ]
    },
    {
      "cell_type": "markdown",
      "source": [
        "## MINI-BATCH GD"
      ],
      "metadata": {
        "id": "xdTu6Ba5GtcB"
      }
    },
    {
      "cell_type": "code",
      "source": [
        "def mini_batch_gradient_descent(X, y, learning_rate=0.1, n_iterations = 1000, batch_size = 20):\n",
        "  m = len(y)\n",
        "  theta = np.random.randn(2, 1) # random initialization\n",
        "  print(\"Initial Theta:\", theta)\n",
        "  for iteration in range(n_iterations):\n",
        "    shuffled_indices = np.random.permutation(m)\n",
        "    X_b_shuffled = X[shuffled_indices]\n",
        "    y_shuffled = y[shuffled_indices]\n",
        "    for i in range(0, m, batch_size):\n",
        "      xi = X_b_shuffled[i:i+batch_size]\n",
        "      yi = y_shuffled[i:i+batch_size]\n",
        "      gradient = 2/len(xi) * xi.T.dot(xi.dot(theta) - yi)\n",
        "      theta = theta - learning_rate * gradient\n",
        "  return theta\n",
        "\n",
        "theta_mbgd = mini_batch_gradient_descent(X_b, y)\n",
        "print(\"MBGD Theta:\", theta_mbgd)"
      ],
      "metadata": {
        "colab": {
          "base_uri": "https://localhost:8080/"
        },
        "id": "JAviKT-EGsm3",
        "outputId": "af6e5225-c26c-4169-b0f1-84332371bd48"
      },
      "execution_count": null,
      "outputs": [
        {
          "output_type": "stream",
          "name": "stdout",
          "text": [
            "Initial Theta: [[0.077042  ]\n",
            " [0.32159946]]\n",
            "MBGD Theta: [[4.20311044]\n",
            " [2.75757629]]\n"
          ]
        }
      ]
    },
    {
      "cell_type": "code",
      "source": [
        "def plot_gradient_descent( X, y, theta_sgd, theta_bgd, theta_mbgd):\n",
        "  plt.plot(X, y, \"b.\")\n",
        "  X_new = np.array([[0], [2]])\n",
        "  X_new_b = np.c_[np.ones((2, 1)), X_new]\n",
        "  print(X_new)\n",
        "  y_predict_bgd = X_new_b.dot(theta_bgd)\n",
        "  y_predict_sgd = X_new_b.dot(theta_sgd)\n",
        "  y_predict_mbgd = X_new_b.dot(theta_mbgd)\n",
        "  plt.plot(X_new, y_predict_bgd, \"r-\", linewidth = 4, label=\"BGD\")\n",
        "  plt.plot(X_new, y_predict_sgd, \"g-\", linewidth = 2, label=\"SGD\")\n",
        "  plt.plot(X_new, y_predict_mbgd, \"y-\", linewidth = 3, label=\" Mini- batch GD\")\n",
        "  plt.xlabel(\"$x_1$\", fontsize=18)\n",
        "  plt.ylabel(\"$y$\", rotation=0, fontsize=18)\n",
        "  plt.legend(loc=\"upper left\", fontsize=16)\n",
        "  plt.title(\"Gradient Descent Compariosn \")\n",
        "  plt.show()\n",
        "plot_gradient_descent(X, y, theta_sgd, theta_bgd, theta_mbgd)"
      ],
      "metadata": {
        "colab": {
          "base_uri": "https://localhost:8080/",
          "height": 519
        },
        "id": "09dsvPyqI-do",
        "outputId": "08940b8a-8652-4d75-b4aa-bde1351eb135"
      },
      "execution_count": null,
      "outputs": [
        {
          "output_type": "stream",
          "name": "stdout",
          "text": [
            "[[0]\n",
            " [2]]\n"
          ]
        },
        {
          "output_type": "display_data",
          "data": {
            "text/plain": [
              "<Figure size 640x480 with 1 Axes>"
            ],
            "image/png": "[encoded data removed]"
          },
          "metadata": {}
        }
      ]
    },
    {
      "cell_type": "markdown",
      "source": [
        "## AdvaAdvancence optimizeroptimizer\n",
        "optimizeroptimiz"
      ],
      "metadata": {
        "id": "AvSKIp33I_D3"
      }
    },
    {
      "cell_type": "markdown",
      "source": [
        "## Momentum based GD"
      ],
      "metadata": {
        "id": "wvsgknBePyou"
      }
    },
    {
      "cell_type": "code",
      "source": [
        "import numpy as np\n",
        "\n",
        "X = np.random.rand(100, 2)\n",
        "y = np.random.randn(100, 1)\n",
        "theta = np.random.randn(2,1)\n",
        "\n",
        "def gradient_descent_with_momentum(X, y, theta, learning_rate, gamma, n_iterations):\n",
        "    m = len(y)\n",
        "    velocity = np.zeros_like(theta)\n",
        "\n",
        "    print(\"Initial Theta:\", theta)\n",
        "\n",
        "    for i in range(n_iterations):\n",
        "        gradient = 1/m * X.T.dot(X.dot(theta) - y)\n",
        "        velocity = gamma * velocity + learning_rate * gradient\n",
        "        theta = theta - velocity\n",
        "    return theta\n",
        "\n",
        "learning_rate = 0.01\n",
        "gamma = 0.9\n",
        "n_iterations = 1000\n",
        "theta = gradient_descent_with_momentum(X, y, theta, learning_rate, gamma, n_iterations)\n",
        "print(\"Momentum Theta:\", theta)\n",
        "\n"
      ],
      "metadata": {
        "colab": {
          "base_uri": "https://localhost:8080/"
        },
        "id": "JvOx88SaPwZu",
        "outputId": "5d391f92-6fc1-4341-f87c-03922a40c56d"
      },
      "execution_count": null,
      "outputs": [
        {
          "output_type": "stream",
          "name": "stdout",
          "text": [
            "Initial Theta: [[0.90517057]\n",
            " [1.41789787]]\n",
            "Momentum Theta: [[0.01316148]\n",
            " [0.00294489]]\n"
          ]
        }
      ]
    },
    {
      "cell_type": "markdown",
      "source": [
        "## Adagrad GD"
      ],
      "metadata": {
        "id": "QuKOYraAX1kW"
      }
    },
    {
      "cell_type": "code",
      "source": [
        "import numpy as np\n",
        "np.random.seed(42)\n",
        "X = np.random.rand(100, 1)\n",
        "y = np.random.randn(100, 1)\n",
        "X_b = np.c_[np.ones((100, 1)), X]\n",
        "learning_rate = 0.01\n",
        "epsilon  = 1e-8\n",
        "n_iterations = 1000\n",
        "\n",
        "theta = np.random.randn(2,1)\n",
        "gradient_accum = np.zeros((2,1))\n",
        "\n",
        "for i in range(n_iterations):\n",
        "        gradient = 2/len(X_b) * X_b.T.dot(X_b.dot(theta) - y)\n",
        "        gradient_accum += gradient**2\n",
        "        adjusted_gradient = gradient / (np.sqrt(gradient_accum) + epsilon)\n",
        "        theta -= learning_rate * adjusted_gradient\n",
        "\n",
        "print(\"Adagard Theta:\", theta)"
      ],
      "metadata": {
        "colab": {
          "base_uri": "https://localhost:8080/"
        },
        "id": "hne9A509XkrO",
        "outputId": "c227a581-2714-43d8-b6e6-98d22b6179e1"
      },
      "execution_count": null,
      "outputs": [
        {
          "output_type": "stream",
          "name": "stdout",
          "text": [
            "Adagard Theta: [[-0.3938753 ]\n",
            " [ 0.96052359]]\n"
          ]
        }
      ]
    },
    {
      "cell_type": "markdown",
      "source": [
        "## RMSprop"
      ],
      "metadata": {
        "id": "NRBmEj1RZmEH"
      }
    },
    {
      "cell_type": "code",
      "source": [
        "import numpy as np\n",
        "np.random.seed(42)\n",
        "X = np.random.rand(100, 1)\n",
        "y = np.random.randn(100, 1)\n",
        "X_b = np.c_[np.ones((100, 1)), X]\n",
        "learning_rate = 0.01\n",
        "epsilon  = 1e-8\n",
        "decay_rate = 0.9\n",
        "n_iterations = 1000\n",
        "\n",
        "theta = np.random.randn(2,1)\n",
        "gradient_accum = np.zeros((2,1))\n",
        "\n",
        "for i in range(n_iterations):\n",
        "        gradient = 2/len(X_b) * X_b.T.dot(X_b.dot(theta) - y)\n",
        "        gradient_accum = decay_rate * gradient_accum + (1 - decay_rate) * gradient**2\n",
        "        adjusted_gradient = gradient / (np.sqrt(gradient_accum) + epsilon)\n",
        "        theta -= learning_rate * adjusted_gradient\n",
        "\n",
        "print(\"RMSprop Theta:\", theta)"
      ],
      "metadata": {
        "colab": {
          "base_uri": "https://localhost:8080/"
        },
        "id": "FIn_JGKPZox2",
        "outputId": "1d23f5c6-c155-4733-dd69-9dec82601e09"
      },
      "execution_count": null,
      "outputs": [
        {
          "output_type": "stream",
          "name": "stdout",
          "text": [
            "RMSprop Theta: [[ 0.21009616]\n",
            " [-0.46477322]]\n"
          ]
        }
      ]
    },
    {
      "cell_type": "code",
      "source": [
        "import numpy as np\n",
        "\n",
        "# Set random seed for reproducibility\n",
        "np.random.seed(42)\n",
        "X = np.random.rand(100, 1)\n",
        "y = np.random.randn(100, 1)\n",
        "X_b = np.c_[np.ones((100, 1)), X]\n",
        "\n",
        "# Hyperparameters for Adam optimizer\n",
        "learning_rate = 0.01\n",
        "epsilon = 1e-8\n",
        "beta1 = 0.9\n",
        "beta2 = 0.999\n",
        "n_iterations = 1000\n",
        "\n",
        "# Initialize parameters\n",
        "theta = np.random.randn(2, 1)\n",
        "m = np.zeros((2, 1))  # First moment vector\n",
        "v = np.zeros((2, 1))  # Second moment vector\n",
        "\n",
        "# Adam optimization loop\n",
        "for i in range(1, n_iterations + 1):\n",
        "    # Compute gradient\n",
        "    gradient = 2 / len(X_b) * X_b.T.dot(X_b.dot(theta) - y)\n",
        "\n",
        "    # Update biased first moment estimate\n",
        "    m = beta1 * m + (1 - beta1) * gradient\n",
        "\n",
        "    # Update biased second raw moment estimate\n",
        "    v = beta2 * v + (1 - beta2) * gradient**2\n",
        "\n",
        "    # Correct bias in first and second moment estimates\n",
        "    m_hat = m / (1 - beta1**i)\n",
        "    v_hat = v / (1 - beta2**i)\n",
        "\n",
        "    # Update parameters\n",
        "    theta -= learning_rate * m_hat / (np.sqrt(v_hat) + epsilon)\n",
        "\n",
        "# Display the result\n",
        "print(\"Adam Optimizer Theta:\", theta)\n"
      ],
      "metadata": {
        "colab": {
          "base_uri": "https://localhost:8080/"
        },
        "id": "w26Klcc-PUyC",
        "outputId": "d1aa5017-6a18-4c61-d375-b6156b9fe19b"
      },
      "execution_count": 1,
      "outputs": [
        {
          "output_type": "stream",
          "name": "stdout",
          "text": [
            "Adam Optimizer Theta: [[ 0.21426724]\n",
            " [-0.45814422]]\n"
          ]
        }
      ]
    },
    {
      "cell_type": "code",
      "source": [
        "import numpy as np\n",
        "\n",
        "np.random.seed(42)\n",
        "X = np.random.rand(100, 1)\n",
        "y = np.random.randn(100, 1)\n",
        "X_b = np.c_[np.ones((100, 1)), X]\n",
        "\n",
        "theta = np.random.randn(2, 1)\n",
        "m, v = np.zeros((2, 1)), np.zeros((2, 1))\n",
        "lr, eps, b1, b2 = 0.01, 1e-8, 0.9, 0.999\n",
        "\n",
        "for i in range(1, 1001):\n",
        "    grad = 2 / len(X_b) * X_b.T @ (X_b @ theta - y)\n",
        "    m, v = b1 * m + (1 - b1) * grad, b2 * v + (1 - b2) * grad**2\n",
        "    m_hat, v_hat = m / (1 - b1**i), v / (1 - b2**i)\n",
        "    theta -= lr * m_hat / (np.sqrt(v_hat) + eps)\n",
        "\n",
        "print(\"Theta:\", theta)\n"
      ],
      "metadata": {
        "colab": {
          "base_uri": "https://localhost:8080/"
        },
        "id": "ZJnRlrfhPii2",
        "outputId": "52768d69-b785-488b-f80a-b0c51607b030"
      },
      "execution_count": 2,
      "outputs": [
        {
          "output_type": "stream",
          "name": "stdout",
          "text": [
            "Theta: [[ 0.21426724]\n",
            " [-0.45814422]]\n"
          ]
        }
      ]
    }
  ]
}