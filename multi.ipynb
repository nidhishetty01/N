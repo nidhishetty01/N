{
 "cells": [
  {
   "cell_type": "code",
   "execution_count": 1,
   "id": "e0425d9a",
   "metadata": {},
   "outputs": [
    {
     "name": "stdout",
     "output_type": "stream",
     "text": [
      "Epoch 1000 Loss: 0.000363\n",
      "Epoch 2000 Loss: 0.000164\n",
      "Epoch 3000 Loss: 0.000104\n",
      "Epoch 4000 Loss: 0.000075\n",
      "Epoch 5000 Loss: 0.000058\n",
      "Epoch 6000 Loss: 0.000047\n",
      "Epoch 7000 Loss: 0.000040\n",
      "Epoch 8000 Loss: 0.000034\n",
      "Epoch 9000 Loss: 0.000030\n",
      "Epoch 10000 Loss: 0.000027\n",
      "[(array([0.8, 0.6, 0.7]), 0.0)]\n"
     ]
    }
   ],
   "source": [
    "#multclass\n",
    "import numpy as np\n",
    "\n",
    "def relu(x): return np.maximum(0, x)\n",
    "def relu_derivative(x): return (x > 0).astype(float)\n",
    "def cross_entropy(y_true, y_pred):\n",
    "    epsilon = 1e-15\n",
    "    y_pred = np.clip(y_pred, epsilon, 1 - epsilon)\n",
    "    return -np.sum(y_true * np.log(y_pred))\n",
    "\n",
    "def softmax(x):\n",
    "    e_x = np.exp(x - np.max(x))\n",
    "    return e_x / e_x.sum()\n",
    "\n",
    "inputs = np.array([0.8, 0.6, 0.7])\n",
    "outputs = np.array([0, 1, 0])\n",
    "\n",
    "w1 = np.array([[0.2, 0.4, 0.1], [0.5, 0.3, 0.2], [0.3, 0.7, 0.8]])\n",
    "b1 = np.array([0.1, 0.2, 0.3])\n",
    "w2 = np.array([[0.6, 0.4, 0.5], [0.1, 0.2, 0.3], [0.3, 0.7, 0.2]])\n",
    "b2 = np.array([0.1, 0.2, 0.3])\n",
    "\n",
    "lr, epochs = 0.1, 10000\n",
    "\n",
    "for epoch in range(epochs):\n",
    "    # Forward pass\n",
    "    h = relu(np.dot(inputs, w1) + b1)\n",
    "    o = softmax(np.dot(h, w2) + b2)\n",
    "    loss = cross_entropy(outputs, o)\n",
    "\n",
    "    # Backpropagation\n",
    "    error_output = o - outputs\n",
    "    grad_output = np.outer(h, error_output)\n",
    "\n",
    "    error_hidden = np.dot(error_output, w2.T) * relu_derivative(h)\n",
    "    grad_hidden = np.outer(inputs, error_hidden)\n",
    "\n",
    "    # Update weights and biases\n",
    "    w2 -= lr * grad_output\n",
    "    b2 -= lr * error_output\n",
    "    w1 -= lr * grad_hidden\n",
    "    b1 -= lr * error_hidden\n",
    "\n",
    "    if (epoch + 1) % 1000 == 0:\n",
    "        print(f\"Epoch {epoch + 1} Loss: {loss:.6f}\")\n",
    "\n",
    "results = [(x, round(softmax(np.dot(relu(np.dot(x, w1) + b1), w2) + b2)[0], 2)) for x in [inputs]]\n",
    "print(results)\n"
   ]
  },
  {
   "cell_type": "code",
   "execution_count": null,
   "id": "0a5d2c6b",
   "metadata": {},
   "outputs": [],
   "source": []
  }
 ],
 "metadata": {
  "kernelspec": {
   "display_name": "Python 3 (ipykernel)",
   "language": "python",
   "name": "python3"
  },
  "language_info": {
   "codemirror_mode": {
    "name": "ipython",
    "version": 3
   },
   "file_extension": ".py",
   "mimetype": "text/x-python",
   "name": "python",
   "nbconvert_exporter": "python",
   "pygments_lexer": "ipython3",
   "version": "3.10.5"
  }
 },
 "nbformat": 4,
 "nbformat_minor": 5
}
