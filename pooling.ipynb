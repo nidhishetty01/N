{
  "nbformat": 4,
  "nbformat_minor": 0,
  "metadata": {
    "colab": {
      "provenance": []
    },
    "kernelspec": {
      "name": "python3",
      "display_name": "Python 3"
    },
    "language_info": {
      "name": "python"
    }
  },
  "cells": [
    {
      "cell_type": "markdown",
      "source": [
        "#Checking the effects of MaxPooling on model parameters"
      ],
      "metadata": {
        "id": "cgYi0v_OE53P"
      }
    },
    {
      "cell_type": "code",
      "execution_count": null,
      "metadata": {
        "colab": {
          "base_uri": "https://localhost:8080/"
        },
        "id": "nX7MXP925ly4",
        "outputId": "9f2d854c-7c49-409d-be4e-633fada2e1ae"
      },
      "outputs": [
        {
          "output_type": "execute_result",
          "data": {
            "text/plain": [
              "<tf.Tensor: shape=(1, 2, 2, 1), dtype=float32, numpy=\n",
              "array([[[[5.],\n",
              "         [6.]],\n",
              "\n",
              "        [[8.],\n",
              "         [9.]]]], dtype=float32)>"
            ]
          },
          "metadata": {},
          "execution_count": 1
        }
      ],
      "source": [
        "import tensorflow as tf\n",
        "x = tf.constant([[1., 2., 3.],\n",
        "                 [4., 5., 6.],\n",
        "                 [7., 8., 9.]])\n",
        "x = tf.reshape(x, [1, 3, 3, 1])\n",
        "max_pool_2d = tf.keras.layers.MaxPooling2D(pool_size=(2, 2), strides=(1, 1), padding='valid')\n",
        "max_pool_2d(x)"
      ]
    },
    {
      "cell_type": "code",
      "source": [
        "x = tf.constant([[1., 2., 3., 4.],\n",
        "                 [5., 6., 7., 8.],\n",
        "                 [9., 10., 11., 12.]])\n",
        "x = tf.reshape(x, [1, 3, 4, 1])\n",
        "max_pool_2d = tf.keras.layers.MaxPooling2D(pool_size=(2, 2),\n",
        "   strides=(2, 2), padding='valid')\n",
        "max_pool_2d(x)"
      ],
      "metadata": {
        "colab": {
          "base_uri": "https://localhost:8080/"
        },
        "id": "Jr-P4-OH5qCL",
        "outputId": "e727f2c0-4489-4eb2-be1b-f0ccf3635652"
      },
      "execution_count": null,
      "outputs": [
        {
          "output_type": "execute_result",
          "data": {
            "text/plain": [
              "<tf.Tensor: shape=(1, 1, 2, 1), dtype=float32, numpy=\n",
              "array([[[[6.],\n",
              "         [8.]]]], dtype=float32)>"
            ]
          },
          "metadata": {},
          "execution_count": 2
        }
      ]
    },
    {
      "cell_type": "code",
      "source": [
        "x = tf.constant([[1., 2., 3., 4.],\n",
        "                 [5., 6., 7., 8.],\n",
        "                 [9., 10., 11., 12.]])\n",
        "x = tf.reshape(x, [1, 3, 4, 1])\n",
        "max_pool_2d = tf.keras.layers.MaxPooling2D(pool_size=(2, 2),\n",
        "   strides=(2, 2), padding='same')\n",
        "max_pool_2d(x)"
      ],
      "metadata": {
        "colab": {
          "base_uri": "https://localhost:8080/"
        },
        "id": "83KCwYFT5rrh",
        "outputId": "b8134b54-a9f3-4048-d7d2-82e451a9c278"
      },
      "execution_count": null,
      "outputs": [
        {
          "output_type": "execute_result",
          "data": {
            "text/plain": [
              "<tf.Tensor: shape=(1, 2, 2, 1), dtype=float32, numpy=\n",
              "array([[[[ 6.],\n",
              "         [ 8.]],\n",
              "\n",
              "        [[10.],\n",
              "         [12.]]]], dtype=float32)>"
            ]
          },
          "metadata": {},
          "execution_count": 3
        }
      ]
    },
    {
      "cell_type": "code",
      "source": [
        "x = tf.constant([[1., 2., 3., 4.],\n",
        "                 [5., 6., 7., 8.],\n",
        "                 [9., 10., 11., 12.]])\n",
        "x = tf.reshape(x, [1, 3, 4, 1])\n",
        "max_pool_2d = tf.keras.layers.MaxPooling2D(pool_size=(2, 2),\n",
        "   strides=(1, 1), padding='same')\n",
        "max_pool_2d(x)"
      ],
      "metadata": {
        "id": "AglPfU-95yz5",
        "outputId": "2f2adfaf-a357-42fc-fe1b-c50480c9df88",
        "colab": {
          "base_uri": "https://localhost:8080/"
        }
      },
      "execution_count": null,
      "outputs": [
        {
          "output_type": "execute_result",
          "data": {
            "text/plain": [
              "<tf.Tensor: shape=(1, 3, 4, 1), dtype=float32, numpy=\n",
              "array([[[[ 6.],\n",
              "         [ 7.],\n",
              "         [ 8.],\n",
              "         [ 8.]],\n",
              "\n",
              "        [[10.],\n",
              "         [11.],\n",
              "         [12.],\n",
              "         [12.]],\n",
              "\n",
              "        [[10.],\n",
              "         [11.],\n",
              "         [12.],\n",
              "         [12.]]]], dtype=float32)>"
            ]
          },
          "metadata": {},
          "execution_count": 4
        }
      ]
    }
  ]
}